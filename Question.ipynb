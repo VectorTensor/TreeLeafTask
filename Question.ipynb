{
 "cells": [
  {
   "cell_type": "code",
   "execution_count": 1,
   "metadata": {},
   "outputs": [],
   "source": [
    "from neo4j import GraphDatabase\n",
    "\n",
    "URI = \"neo4j+s://fb99990e.databases.neo4j.io\"\n",
    "AUTH = (\"neo4j\", \"lh1LhGuDXcqbw3e4-F4DIN9iFoQLbXY3fiMotLoG9Ac\")\n",
    "\n",
    "with GraphDatabase.driver(URI, auth=AUTH) as driver:\n",
    "    driver.verify_connectivity()"
   ]
  },
  {
   "cell_type": "code",
   "execution_count": 95,
   "metadata": {},
   "outputs": [
    {
     "name": "stderr",
     "output_type": "stream",
     "text": [
      "/home/prayash/.local/lib/python3.10/site-packages/transformers/pipelines/token_classification.py:169: UserWarning: `grouped_entities` is deprecated and will be removed in version v5.0.0, defaulted to `aggregation_strategy=\"simple\"` instead.\n",
      "  warnings.warn(\n"
     ]
    },
    {
     "name": "stdout",
     "output_type": "stream",
     "text": [
      "[{'entity_group': 'LOC', 'score': 0.5823375, 'word': 'achham', 'start': 9, 'end': 15}]\n"
     ]
    }
   ],
   "source": [
    "from transformers import AutoTokenizer, AutoModelForTokenClassification\n",
    "from transformers import pipeline\n",
    "\n",
    "tokenizer = AutoTokenizer.from_pretrained(\"Babelscape/wikineural-multilingual-ner\")\n",
    "model = AutoModelForTokenClassification.from_pretrained(\"Babelscape/wikineural-multilingual-ner\")\n",
    "\n",
    "entity_nlp = pipeline(\"ner\", model=model, tokenizer=tokenizer, grouped_entities=True)\n",
    "example = \"Where is achham located \"\n",
    "\n",
    "ner_results = entity_nlp(example)\n",
    "print(ner_results)"
   ]
  },
  {
   "cell_type": "code",
   "execution_count": 96,
   "metadata": {},
   "outputs": [],
   "source": [
    "import spacy\n",
    "nlp = spacy.load(\"en_core_web_sm\")\n"
   ]
  },
  {
   "cell_type": "code",
   "execution_count": 97,
   "metadata": {},
   "outputs": [
    {
     "data": {
      "text/plain": [
       "[hi, my, name, is, prayash, thapa]"
      ]
     },
     "execution_count": 97,
     "metadata": {},
     "output_type": "execute_result"
    }
   ],
   "source": [
    "def Pre_Process(query):\n",
    "    query = query.lower()\n",
    "    tokens = []\n",
    "    doc = nlp(query)\n",
    "    for token in doc:\n",
    "        tokens.append(token)\n",
    "    return tokens\n",
    "\n",
    "Pre_Process(\"hi my name is Prayash thapa\")\n"
   ]
  },
  {
   "cell_type": "code",
   "execution_count": 98,
   "metadata": {},
   "outputs": [],
   "source": [
    "def Entities(query):\n",
    "    doc = entity_nlp(query.lower())\n",
    "   #\n",
    "    return doc"
   ]
  },
  {
   "cell_type": "code",
   "execution_count": 99,
   "metadata": {},
   "outputs": [],
   "source": [
    "def checkTokenin(token , text):\n",
    "    for tex in text:\n",
    "        if token == tex.orth_:\n",
    "            return True\n",
    "    \n",
    "    return False"
   ]
  },
  {
   "cell_type": "code",
   "execution_count": 100,
   "metadata": {},
   "outputs": [],
   "source": [
    "def AnswerQuery(query):\n",
    "    text = Pre_Process(query)\n",
    "    #print(text)\n",
    "    \n",
    "    \n",
    "    \n",
    "    if checkTokenin(\"located\", text):\n",
    "        #query the graph for relation located_in_administrative\n",
    "\n",
    "        #print(Entities(query)[0]['word'])\n",
    "        name = Entities(query)[0]['word']\n",
    "\n",
    "        records, summary, keys = driver.execute_query(\n",
    "        \"\"\"MATCH (E:Entity{name:$name})-[:_located_in_the_administrative_territorial_entity]->(entity:Entity)\n",
    "            RETURN entity.name\n",
    "        \"\"\",\n",
    "        name = name,\n",
    "        database_=\"neo4j\")\n",
    "\n",
    "        if len(records) == 0:\n",
    "            print(\"Sorry I don't know about this location\")\n",
    "            return\n",
    "        else:\n",
    "\n",
    "            print(\"It is located in \" +records[0].value())\n",
    "\n",
    "    else:\n",
    "        print(\"This is beyond my capabilities I only only know where someplace is located\")\n",
    "\n",
    "    #print(\"do\")"
   ]
  },
  {
   "cell_type": "code",
   "execution_count": 105,
   "metadata": {},
   "outputs": [
    {
     "name": "stdout",
     "output_type": "stream",
     "text": [
      "Sorry I don't know about this location\n"
     ]
    }
   ],
   "source": [
    "AnswerQuery(\"where is kailali located\")\n"
   ]
  },
  {
   "cell_type": "code",
   "execution_count": null,
   "metadata": {},
   "outputs": [],
   "source": []
  }
 ],
 "metadata": {
  "kernelspec": {
   "display_name": "Python 3",
   "language": "python",
   "name": "python3"
  },
  "language_info": {
   "codemirror_mode": {
    "name": "ipython",
    "version": 3
   },
   "file_extension": ".py",
   "mimetype": "text/x-python",
   "name": "python",
   "nbconvert_exporter": "python",
   "pygments_lexer": "ipython3",
   "version": "3.10.6"
  },
  "orig_nbformat": 4
 },
 "nbformat": 4,
 "nbformat_minor": 2
}
